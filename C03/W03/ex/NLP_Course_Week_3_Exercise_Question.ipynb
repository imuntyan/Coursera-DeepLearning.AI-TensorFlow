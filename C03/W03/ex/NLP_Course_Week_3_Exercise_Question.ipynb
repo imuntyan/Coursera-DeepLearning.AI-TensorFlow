{
 "nbformat": 4,
 "nbformat_minor": 0,
 "metadata": {
  "accelerator": "GPU",
  "colab": {
   "name": "NLP Course - Week 3 Exercise Question.ipynb",
   "provenance": [],
   "toc_visible": true
  },
  "kernelspec": {
   "name": "python3",
   "language": "python",
   "display_name": "Python 3"
  }
 },
 "cells": [
  {
   "cell_type": "code",
   "metadata": {
    "id": "zX4Kg8DUTKWO"
   },
   "source": [
    "#@title Licensed under the Apache License, Version 2.0 (the \"License\");\n",
    "# you may not use this file except in compliance with the License.\n",
    "# You may obtain a copy of the License at\n",
    "#\n",
    "# https://www.apache.org/licenses/LICENSE-2.0\n",
    "#\n",
    "# Unless required by applicable law or agreed to in writing, software\n",
    "# distributed under the License is distributed on an \"AS IS\" BASIS,\n",
    "# WITHOUT WARRANTIES OR CONDITIONS OF ANY KIND, either express or implied.\n",
    "# See the License for the specific language governing permissions and\n",
    "# limitations under the License."
   ],
   "execution_count": 1,
   "outputs": []
  },
  {
   "cell_type": "code",
   "metadata": {
    "id": "hmA6EzkQJ5jt"
   },
   "source": [
    "import json\n",
    "import tensorflow as tf\n",
    "import csv\n",
    "import random\n",
    "import numpy as np\n",
    "\n",
    "from tensorflow.keras.preprocessing.text import Tokenizer\n",
    "from tensorflow.keras.preprocessing.sequence import pad_sequences\n",
    "from tensorflow.keras.utils import to_categorical\n",
    "from tensorflow.keras import regularizers\n",
    "\n",
    "\n",
    "embedding_dim = 100\n",
    "max_length = 16\n",
    "trunc_type='post'\n",
    "padding_type='post'\n",
    "oov_tok = \"<OOV>\"\n",
    "#Your dataset size here. Experiment using smaller values (i.e. 16000), but don't forget to train on at least 160000 to see the best effects\n",
    "training_size = 16000\n",
    "test_portion=.1\n"
   ],
   "execution_count": 39,
   "outputs": []
  },
  {
   "cell_type": "code",
   "metadata": {
    "colab": {
     "base_uri": "https://localhost:8080/",
     "height": 204
    },
    "id": "bM0l_dORKqE0",
    "outputId": "491ba86b-f780-4355-a4be-765565a29c8c"
   },
   "source": [
    "# Note that I cleaned the Stanford dataset to remove LATIN1 encoding to make it easier for Python CSV reader\n",
    "# You can do that yourself with:\n",
    "# iconv -f LATIN1 -t UTF8 training.1600000.processed.noemoticon.csv -o training_cleaned.csv\n",
    "# I then hosted it on my site to make it easier to use in this notebook\n",
    "\n",
    "# !wget --no-check-certificate \\\n",
    "#     https://storage.googleapis.com/laurencemoroney-blog.appspot.com/training_cleaned.csv \\\n",
    "#     -O /tmp/training_cleaned.csv\n",
    "\n",
    "\n",
    "# !gdown --id 0B04GJPshIjmPRnZManQwWEdTZjg -O '/tmp/trainingandtestdata.zip'\n",
    "# import os\n",
    "# import zipfile\n",
    "# local_zip = '../../tmp/trainingandtestdata.zip'\n",
    "# zip_ref = zipfile.ZipFile(local_zip, 'r')\n",
    "# zip_ref.extractall('/tmp/training_raw')\n",
    "# !iconv -s -f LATIN1 -t UTF8 /tmp/training_raw/training.1600000.processed.noemoticon.csv -o >> /tmp/training_cleaned.csv\n",
    "#\n",
    "#\n",
    "num_sentences = 0\n",
    "corpus = []\n",
    "with open(\"/tmp/training_cleaned.csv\") as csvfile:\n",
    "    reader = csv.reader(csvfile, delimiter=',')\n",
    "    for row in reader:\n",
    "      # Your Code here. Create list items where the first item is the text, found in row[5], and the second is the label. Note that the label is a '0' or a '4' in the text. When it's the former, make\n",
    "      # your label to be 0, otherwise 1. Keep a count of the number of sentences in num_sentences\n",
    "        list_item=[row[5], 0 if row[0] == 0 else 4]\n",
    "        # YOUR CODE HERE\n",
    "        num_sentences = num_sentences + 1\n",
    "        corpus.append(list_item)\n"
   ],
   "execution_count": 25,
   "outputs": []
  },
  {
   "cell_type": "code",
   "metadata": {
    "colab": {
     "base_uri": "https://localhost:8080/",
     "height": 68
    },
    "id": "3kxblBUjEUX-",
    "outputId": "3c0227a2-e74b-4d9b-cabb-f9ee150571b1"
   },
   "source": [
    "print(num_sentences)\n",
    "print(len(corpus))\n",
    "print(corpus[1])\n",
    "\n",
    "# Expected Output:\n",
    "# 1600000\n",
    "# 1600000\n",
    "# [\"is upset that he can't update his Facebook by texting it... and might cry as a result  School today also. Blah!\", 0]"
   ],
   "execution_count": 26,
   "outputs": [
    {
     "name": "stdout",
     "output_type": "stream",
     "text": [
      "1600000\n",
      "1600000\n",
      "[\"is upset that he can't update his Facebook by texting it... and might cry as a result  School today also. Blah!\", 4]\n"
     ]
    }
   ]
  },
  {
   "cell_type": "code",
   "metadata": {
    "id": "ohOGz24lsNAD"
   },
   "source": [
    "sentences=[]\n",
    "labels=[]\n",
    "random.shuffle(corpus)\n",
    "for x in range(training_size):\n",
    "    sentences.append(corpus[x][0])\n",
    "    labels.append(corpus[x][1])\n",
    "\n",
    "\n",
    "tokenizer = Tokenizer()\n",
    "tokenizer.fit_on_texts(sentences)\n",
    "\n",
    "word_index = tokenizer.word_index\n",
    "vocab_size=len(word_index)\n",
    "\n",
    "sequences = tokenizer.texts_to_sequences(sentences)\n",
    "padded = pad_sequences(sequences, padding=padding_type, truncating=trunc_type, maxlen=max_length)\n",
    "\n",
    "split = int(test_portion * training_size)\n",
    "\n",
    "test_sequences = padded[0:split]\n",
    "training_sequences = padded[split:]\n",
    "test_labels = labels[0:split]\n",
    "training_labels = labels[split:]"
   ],
   "execution_count": 43,
   "outputs": []
  },
  {
   "cell_type": "code",
   "metadata": {
    "colab": {
     "base_uri": "https://localhost:8080/",
     "height": 51
    },
    "id": "gIrtRem1En3N",
    "outputId": "4ad8401c-8dba-420d-8aee-38dac0b0839a"
   },
   "source": [
    "print(vocab_size)\n",
    "print(word_index['i'])\n",
    "# Expected Output\n",
    "# 138858\n",
    "# 1"
   ],
   "execution_count": 48,
   "outputs": [
    {
     "name": "stdout",
     "output_type": "stream",
     "text": [
      "26673\n",
      "1\n"
     ]
    }
   ]
  },
  {
   "cell_type": "code",
   "metadata": {
    "colab": {
     "base_uri": "https://localhost:8080/",
     "height": 204
    },
    "id": "C1zdgJkusRh0",
    "outputId": "b6edd322-8191-45e7-cb12-08921685a72f"
   },
   "source": [
    "# Note this is the 100 dimension version of GloVe from Stanford\n",
    "# I unzipped and hosted it on my site to make this notebook easier\n",
    "# !wget --no-check-certificate \\\n",
    "#     https://storage.googleapis.com/laurencemoroney-blog.appspot.com/glove.6B.100d.txt \\\n",
    "#     -O /tmp/glove.6B.100d.txt\n",
    "# !wget --no-check-certificate \\\n",
    "#     https://storage.googleapis.com/laurencemoroney-blog.appspot.com/glove.zip \\\n",
    "#     -O /tmp/glove.zip\n",
    "# import zipfile\n",
    "# local_zip = '/tmp/glove.zip'\n",
    "# zip_ref = zipfile.ZipFile(local_zip, 'r')\n",
    "# zip_ref.extractall('/tmp/glove/')\n",
    "embeddings_index = {};\n",
    "with open('../../tmp/glove.6B.100d.txt') as f:\n",
    "    for line in f:\n",
    "        values = line.split();\n",
    "        word = values[0];\n",
    "        coefs = np.asarray(values[1:], dtype='float32');\n",
    "        embeddings_index[word] = coefs;\n",
    "\n",
    "embeddings_matrix = np.zeros((vocab_size+1, embedding_dim));\n",
    "for word, i in word_index.items():\n",
    "    embedding_vector = embeddings_index.get(word);\n",
    "    if embedding_vector is not None:\n",
    "        embeddings_matrix[i] = embedding_vector;"
   ],
   "execution_count": 45,
   "outputs": []
  },
  {
   "cell_type": "code",
   "metadata": {
    "colab": {
     "base_uri": "https://localhost:8080/",
     "height": 34
    },
    "id": "71NLk_lpFLNt",
    "outputId": "97cb88db-754f-4375-fdc3-876cd6b4fdce"
   },
   "source": [
    "print(len(embeddings_matrix))\n",
    "# Expected Output\n",
    "# 138859"
   ],
   "execution_count": 46,
   "outputs": [
    {
     "name": "stdout",
     "output_type": "stream",
     "text": [
      "26674\n"
     ]
    }
   ]
  },
  {
   "cell_type": "code",
   "metadata": {
    "id": "iKKvbuEBOGFz"
   },
   "source": [
    "model = tf.keras.Sequential([\n",
    "    tf.keras.layers.Embedding(vocab_size+1, embedding_dim, input_length=max_length, weights=[embeddings_matrix], trainable=False),\n",
    "    # YOUR CODE HERE - experiment with combining different types, such as convolutions and LSTMs\n",
    "    tf.keras.layers.Dropout(0.2),\n",
    "    tf.keras.layers.Conv1D(64, 5, activation='relu'),\n",
    "    tf.keras.layers.MaxPooling1D(pool_size=4),\n",
    "    tf.keras.layers.LSTM(64),\n",
    "    tf.keras.layers.Dense(1, activation='sigmoid')\n",
    "])\n",
    "model.compile(loss='binary_crossentropy', optimizer='adam', metrics=['accuracy'])\n",
    "model.summary()\n",
    "\n",
    "num_epochs = 50\n",
    "history = model.fit(training_sequences, np.array(training_labels), epochs=num_epochs, validation_data=(test_sequences, np.array(test_labels)), verbose=2)\n",
    "\n",
    "print(\"Training Complete\")\n"
   ],
   "execution_count": 50,
   "outputs": [
    {
     "name": "stdout",
     "output_type": "stream",
     "text": [
      "Model: \"sequential_5\"\n",
      "_________________________________________________________________\n",
      "Layer (type)                 Output Shape              Param #   \n",
      "=================================================================\n",
      "embedding_5 (Embedding)      (None, 16, 100)           2667400   \n",
      "_________________________________________________________________\n",
      "dropout (Dropout)            (None, 16, 100)           0         \n",
      "_________________________________________________________________\n",
      "conv1d (Conv1D)              (None, 12, 64)            32064     \n",
      "_________________________________________________________________\n",
      "max_pooling1d (MaxPooling1D) (None, 3, 64)             0         \n",
      "_________________________________________________________________\n",
      "lstm_10 (LSTM)               (None, 64)                33024     \n",
      "_________________________________________________________________\n",
      "dense_10 (Dense)             (None, 1)                 65        \n",
      "=================================================================\n",
      "Total params: 2,732,553\n",
      "Trainable params: 65,153\n",
      "Non-trainable params: 2,667,400\n",
      "_________________________________________________________________\n",
      "Epoch 1/50\n",
      "450/450 - 3s - loss: -7.6631e+01 - accuracy: 0.0000e+00 - val_loss: -1.2408e+02 - val_accuracy: 0.0000e+00\n",
      "Epoch 2/50\n",
      "450/450 - 1s - loss: -1.6844e+02 - accuracy: 0.0000e+00 - val_loss: -2.1278e+02 - val_accuracy: 0.0000e+00\n",
      "Epoch 3/50\n",
      "450/450 - 1s - loss: -2.5668e+02 - accuracy: 0.0000e+00 - val_loss: -3.0071e+02 - val_accuracy: 0.0000e+00\n",
      "Epoch 4/50\n",
      "450/450 - 2s - loss: -3.4446e+02 - accuracy: 0.0000e+00 - val_loss: -3.8837e+02 - val_accuracy: 0.0000e+00\n",
      "Epoch 5/50\n",
      "450/450 - 1s - loss: -4.3204e+02 - accuracy: 0.0000e+00 - val_loss: -4.7588e+02 - val_accuracy: 0.0000e+00\n",
      "Epoch 6/50\n",
      "450/450 - 1s - loss: -5.1951e+02 - accuracy: 0.0000e+00 - val_loss: -5.6332e+02 - val_accuracy: 0.0000e+00\n",
      "Epoch 7/50\n",
      "450/450 - 1s - loss: -6.0693e+02 - accuracy: 0.0000e+00 - val_loss: -6.5072e+02 - val_accuracy: 0.0000e+00\n",
      "Epoch 8/50\n",
      "450/450 - 1s - loss: -6.9431e+02 - accuracy: 0.0000e+00 - val_loss: -7.3809e+02 - val_accuracy: 0.0000e+00\n",
      "Epoch 9/50\n",
      "450/450 - 1s - loss: -7.8167e+02 - accuracy: 0.0000e+00 - val_loss: -8.2545e+02 - val_accuracy: 0.0000e+00\n",
      "Epoch 10/50\n",
      "450/450 - 1s - loss: -8.6903e+02 - accuracy: 0.0000e+00 - val_loss: -9.1279e+02 - val_accuracy: 0.0000e+00\n",
      "Epoch 11/50\n",
      "450/450 - 1s - loss: -9.5636e+02 - accuracy: 0.0000e+00 - val_loss: -1.0001e+03 - val_accuracy: 0.0000e+00\n",
      "Epoch 12/50\n",
      "450/450 - 1s - loss: -1.0437e+03 - accuracy: 0.0000e+00 - val_loss: -1.0874e+03 - val_accuracy: 0.0000e+00\n",
      "Epoch 13/50\n",
      "450/450 - 2s - loss: -1.1310e+03 - accuracy: 0.0000e+00 - val_loss: -1.1747e+03 - val_accuracy: 0.0000e+00\n",
      "Epoch 14/50\n",
      "450/450 - 1s - loss: -1.2183e+03 - accuracy: 0.0000e+00 - val_loss: -1.2621e+03 - val_accuracy: 0.0000e+00\n",
      "Epoch 15/50\n",
      "450/450 - 2s - loss: -1.3056e+03 - accuracy: 0.0000e+00 - val_loss: -1.3494e+03 - val_accuracy: 0.0000e+00\n",
      "Epoch 16/50\n",
      "450/450 - 2s - loss: -1.3929e+03 - accuracy: 0.0000e+00 - val_loss: -1.4367e+03 - val_accuracy: 0.0000e+00\n",
      "Epoch 17/50\n",
      "450/450 - 1s - loss: -1.4803e+03 - accuracy: 0.0000e+00 - val_loss: -1.5240e+03 - val_accuracy: 0.0000e+00\n",
      "Epoch 18/50\n",
      "450/450 - 1s - loss: -1.5676e+03 - accuracy: 0.0000e+00 - val_loss: -1.6114e+03 - val_accuracy: 0.0000e+00\n",
      "Epoch 19/50\n",
      "450/450 - 1s - loss: -1.6549e+03 - accuracy: 0.0000e+00 - val_loss: -1.6987e+03 - val_accuracy: 0.0000e+00\n",
      "Epoch 20/50\n",
      "450/450 - 1s - loss: -1.7423e+03 - accuracy: 0.0000e+00 - val_loss: -1.7861e+03 - val_accuracy: 0.0000e+00\n",
      "Epoch 21/50\n",
      "450/450 - 1s - loss: -1.8297e+03 - accuracy: 0.0000e+00 - val_loss: -1.8734e+03 - val_accuracy: 0.0000e+00\n",
      "Epoch 22/50\n",
      "450/450 - 1s - loss: -1.9170e+03 - accuracy: 0.0000e+00 - val_loss: -1.9608e+03 - val_accuracy: 0.0000e+00\n",
      "Epoch 23/50\n",
      "450/450 - 1s - loss: -2.0044e+03 - accuracy: 0.0000e+00 - val_loss: -2.0482e+03 - val_accuracy: 0.0000e+00\n",
      "Epoch 24/50\n",
      "450/450 - 1s - loss: -2.0917e+03 - accuracy: 0.0000e+00 - val_loss: -2.1355e+03 - val_accuracy: 0.0000e+00\n",
      "Epoch 25/50\n",
      "450/450 - 1s - loss: -2.1791e+03 - accuracy: 0.0000e+00 - val_loss: -2.2229e+03 - val_accuracy: 0.0000e+00\n",
      "Epoch 26/50\n",
      "450/450 - 1s - loss: -2.2664e+03 - accuracy: 0.0000e+00 - val_loss: -2.3102e+03 - val_accuracy: 0.0000e+00\n",
      "Epoch 27/50\n",
      "450/450 - 1s - loss: -2.3538e+03 - accuracy: 0.0000e+00 - val_loss: -2.3976e+03 - val_accuracy: 0.0000e+00\n",
      "Epoch 28/50\n",
      "450/450 - 1s - loss: -2.4412e+03 - accuracy: 0.0000e+00 - val_loss: -2.4849e+03 - val_accuracy: 0.0000e+00\n",
      "Epoch 29/50\n",
      "450/450 - 1s - loss: -2.5285e+03 - accuracy: 0.0000e+00 - val_loss: -2.5723e+03 - val_accuracy: 0.0000e+00\n",
      "Epoch 30/50\n",
      "450/450 - 1s - loss: -2.6159e+03 - accuracy: 0.0000e+00 - val_loss: -2.6597e+03 - val_accuracy: 0.0000e+00\n",
      "Epoch 31/50\n",
      "450/450 - 1s - loss: -2.7032e+03 - accuracy: 0.0000e+00 - val_loss: -2.7470e+03 - val_accuracy: 0.0000e+00\n",
      "Epoch 32/50\n",
      "450/450 - 1s - loss: -2.7906e+03 - accuracy: 0.0000e+00 - val_loss: -2.8344e+03 - val_accuracy: 0.0000e+00\n",
      "Epoch 33/50\n",
      "450/450 - 2s - loss: -2.8780e+03 - accuracy: 0.0000e+00 - val_loss: -2.9217e+03 - val_accuracy: 0.0000e+00\n",
      "Epoch 34/50\n",
      "450/450 - 2s - loss: -2.9653e+03 - accuracy: 0.0000e+00 - val_loss: -3.0091e+03 - val_accuracy: 0.0000e+00\n",
      "Epoch 35/50\n",
      "450/450 - 1s - loss: -3.0527e+03 - accuracy: 0.0000e+00 - val_loss: -3.0964e+03 - val_accuracy: 0.0000e+00\n",
      "Epoch 36/50\n",
      "450/450 - 1s - loss: -3.1400e+03 - accuracy: 0.0000e+00 - val_loss: -3.1837e+03 - val_accuracy: 0.0000e+00\n",
      "Epoch 37/50\n",
      "450/450 - 1s - loss: -3.2273e+03 - accuracy: 0.0000e+00 - val_loss: -3.2710e+03 - val_accuracy: 0.0000e+00\n",
      "Epoch 38/50\n",
      "450/450 - 2s - loss: -3.3145e+03 - accuracy: 0.0000e+00 - val_loss: -3.3583e+03 - val_accuracy: 0.0000e+00\n",
      "Epoch 39/50\n",
      "450/450 - 2s - loss: -3.4018e+03 - accuracy: 0.0000e+00 - val_loss: -3.4456e+03 - val_accuracy: 0.0000e+00\n",
      "Epoch 40/50\n",
      "450/450 - 1s - loss: -3.4891e+03 - accuracy: 0.0000e+00 - val_loss: -3.5328e+03 - val_accuracy: 0.0000e+00\n",
      "Epoch 41/50\n",
      "450/450 - 1s - loss: -3.5764e+03 - accuracy: 0.0000e+00 - val_loss: -3.6201e+03 - val_accuracy: 0.0000e+00\n",
      "Epoch 42/50\n",
      "450/450 - 1s - loss: -3.6636e+03 - accuracy: 0.0000e+00 - val_loss: -3.7074e+03 - val_accuracy: 0.0000e+00\n",
      "Epoch 43/50\n",
      "450/450 - 1s - loss: -3.7509e+03 - accuracy: 0.0000e+00 - val_loss: -3.7947e+03 - val_accuracy: 0.0000e+00\n",
      "Epoch 44/50\n",
      "450/450 - 1s - loss: -3.8382e+03 - accuracy: 0.0000e+00 - val_loss: -3.8819e+03 - val_accuracy: 0.0000e+00\n",
      "Epoch 45/50\n",
      "450/450 - 1s - loss: -3.9255e+03 - accuracy: 0.0000e+00 - val_loss: -3.9692e+03 - val_accuracy: 0.0000e+00\n",
      "Epoch 46/50\n",
      "450/450 - 1s - loss: -4.0127e+03 - accuracy: 0.0000e+00 - val_loss: -4.0565e+03 - val_accuracy: 0.0000e+00\n",
      "Epoch 47/50\n",
      "450/450 - 1s - loss: -4.1000e+03 - accuracy: 0.0000e+00 - val_loss: -4.1438e+03 - val_accuracy: 0.0000e+00\n",
      "Epoch 48/50\n",
      "450/450 - 1s - loss: -4.1873e+03 - accuracy: 0.0000e+00 - val_loss: -4.2310e+03 - val_accuracy: 0.0000e+00\n",
      "Epoch 49/50\n",
      "450/450 - 1s - loss: -4.2746e+03 - accuracy: 0.0000e+00 - val_loss: -4.3183e+03 - val_accuracy: 0.0000e+00\n",
      "Epoch 50/50\n",
      "450/450 - 1s - loss: -4.3618e+03 - accuracy: 0.0000e+00 - val_loss: -4.4056e+03 - val_accuracy: 0.0000e+00\n",
      "Training Complete\n"
     ]
    }
   ]
  },
  {
   "cell_type": "code",
   "metadata": {
    "id": "qxju4ItJKO8F"
   },
   "source": [
    "import matplotlib.image  as mpimg\n",
    "import matplotlib.pyplot as plt\n",
    "\n",
    "#-----------------------------------------------------------\n",
    "# Retrieve a list of list results on training and test data\n",
    "# sets for each training epoch\n",
    "#-----------------------------------------------------------\n",
    "acc=history.history['accuracy']\n",
    "val_acc=history.history['val_accuracy']\n",
    "loss=history.history['loss']\n",
    "val_loss=history.history['val_loss']\n",
    "\n",
    "epochs=range(len(acc)) # Get number of epochs\n",
    "\n",
    "#------------------------------------------------\n",
    "# Plot training and validation accuracy per epoch\n",
    "#------------------------------------------------\n",
    "plt.plot(epochs, acc, 'r')\n",
    "plt.plot(epochs, val_acc, 'b')\n",
    "plt.title('Training and validation accuracy')\n",
    "plt.xlabel(\"Epochs\")\n",
    "plt.ylabel(\"Accuracy\")\n",
    "plt.legend([\"Accuracy\", \"Validation Accuracy\"])\n",
    "\n",
    "plt.figure()\n",
    "\n",
    "#------------------------------------------------\n",
    "# Plot training and validation loss per epoch\n",
    "#------------------------------------------------\n",
    "plt.plot(epochs, loss, 'r')\n",
    "plt.plot(epochs, val_loss, 'b')\n",
    "plt.title('Training and validation loss')\n",
    "plt.xlabel(\"Epochs\")\n",
    "plt.ylabel(\"Loss\")\n",
    "plt.legend([\"Loss\", \"Validation Loss\"])\n",
    "\n",
    "plt.figure()\n",
    "\n",
    "\n",
    "# Expected Output\n",
    "# A chart where the validation loss does not increase sharply!"
   ],
   "execution_count": 51,
   "outputs": [
    {
     "data": {
      "text/plain": "<Figure size 432x288 with 0 Axes>"
     },
     "execution_count": 51,
     "metadata": {},
     "output_type": "execute_result"
    },
    {
     "data": {
      "text/plain": "<Figure size 432x288 with 1 Axes>",
      "image/png": "[encoded data removed]"
     },
     "metadata": {
      "needs_background": "light"
     },
     "output_type": "display_data"
    },
    {
     "data": {
      "text/plain": "<Figure size 432x288 with 1 Axes>",
      "image/png": "[encoded data removed]"
     },
     "metadata": {
      "needs_background": "light"
     },
     "output_type": "display_data"
    },
    {
     "data": {
      "text/plain": "<Figure size 432x288 with 0 Axes>"
     },
     "metadata": {},
     "output_type": "display_data"
    }
   ]
  }
 ]
}